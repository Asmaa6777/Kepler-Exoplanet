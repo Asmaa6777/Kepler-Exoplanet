{
  "cells": [
    {
      "cell_type": "markdown",
      "metadata": {
        "id": "view-in-github",
        "colab_type": "text"
      },
      "source": [
        "<a href=\"https://colab.research.google.com/github/Asmaa6777/Kepler-Exoplanet/blob/main/Kepler_Exoplanet.ipynb\" target=\"_parent\"><img src=\"https://colab.research.google.com/assets/colab-badge.svg\" alt=\"Open In Colab\"/></a>"
      ]
    },
    {
      "cell_type": "code",
      "execution_count": 15,
      "metadata": {
        "id": "0gdTxQq-fTZF"
      },
      "outputs": [],
      "source": [
        "import pandas as pd\n",
        "import numpy as np\n",
        "\n",
        "from sklearn.model_selection import train_test_split\n",
        "from sklearn.preprocessing import *\n",
        "from sklearn.metrics import log_loss, accuracy_score\n",
        "from sklearn.pipeline import Pipeline\n",
        "from sklearn.model_selection import RandomizedSearchCV\n",
        "from sklearn.inspection import permutation_importance\n",
        "from sklearn import set_config\n",
        "from sklearn.preprocessing import LabelEncoder\n",
        "from sklearn.base import BaseEstimator, TransformerMixin\n",
        "from sklearn.linear_model import LogisticRegression\n",
        "from sklearn.metrics import accuracy_score\n",
        "from sklearn.tree import DecisionTreeClassifier\n",
        "from sklearn.ensemble import RandomForestClassifier\n",
        "from sklearn.neighbors import KNeighborsClassifier\n",
        "from sklearn.impute import SimpleImputer\n",
        "from sklearn.compose import ColumnTransformer\n",
        "from sklearn.pipeline import Pipeline\n",
        "from sklearn.model_selection import cross_val_score\n",
        "from sklearn.decomposition import PCA\n",
        "\n",
        "from sklearn.metrics import accuracy_score\n",
        "from xgboost import XGBClassifier\n",
        "from lightgbm import LGBMClassifier\n",
        "from sklearn.ensemble import RandomForestClassifier\n"
      ]
    },
    {
      "cell_type": "code",
      "execution_count": 16,
      "metadata": {
        "colab": {
          "base_uri": "https://localhost:8080/"
        },
        "id": "VPsjMWZXb7h1",
        "outputId": "00603101-1f74-424b-f358-018c81dcf316"
      },
      "outputs": [
        {
          "output_type": "stream",
          "name": "stdout",
          "text": [
            "fatal: destination path 'Kepler-Exoplanet' already exists and is not an empty directory.\n"
          ]
        }
      ],
      "source": [
        "!git clone https://github.com/Asmaa6777/Kepler-Exoplanet.git"
      ]
    },
    {
      "cell_type": "code",
      "execution_count": 17,
      "metadata": {
        "id": "r95bMnk4dsQL"
      },
      "outputs": [],
      "source": [
        "url = '/content/Kepler-Exoplanet/archive (9).zip'\n",
        "\n",
        "df = pd.read_csv(url)\n",
        "\n"
      ]
    },
    {
      "cell_type": "code",
      "source": [
        "df.info()"
      ],
      "metadata": {
        "colab": {
          "base_uri": "https://localhost:8080/"
        },
        "id": "fEQEMRPReEIK",
        "outputId": "f280d03e-9b10-410d-e8de-e3f35e35b4bf"
      },
      "execution_count": 18,
      "outputs": [
        {
          "output_type": "stream",
          "name": "stdout",
          "text": [
            "<class 'pandas.core.frame.DataFrame'>\n",
            "RangeIndex: 9564 entries, 0 to 9563\n",
            "Data columns (total 50 columns):\n",
            " #   Column             Non-Null Count  Dtype  \n",
            "---  ------             --------------  -----  \n",
            " 0   rowid              9564 non-null   int64  \n",
            " 1   kepid              9564 non-null   int64  \n",
            " 2   kepoi_name         9564 non-null   object \n",
            " 3   kepler_name        2294 non-null   object \n",
            " 4   koi_disposition    9564 non-null   object \n",
            " 5   koi_pdisposition   9564 non-null   object \n",
            " 6   koi_score          8054 non-null   float64\n",
            " 7   koi_fpflag_nt      9564 non-null   int64  \n",
            " 8   koi_fpflag_ss      9564 non-null   int64  \n",
            " 9   koi_fpflag_co      9564 non-null   int64  \n",
            " 10  koi_fpflag_ec      9564 non-null   int64  \n",
            " 11  koi_period         9564 non-null   float64\n",
            " 12  koi_period_err1    9110 non-null   float64\n",
            " 13  koi_period_err2    9110 non-null   float64\n",
            " 14  koi_time0bk        9564 non-null   float64\n",
            " 15  koi_time0bk_err1   9110 non-null   float64\n",
            " 16  koi_time0bk_err2   9110 non-null   float64\n",
            " 17  koi_impact         9201 non-null   float64\n",
            " 18  koi_impact_err1    9110 non-null   float64\n",
            " 19  koi_impact_err2    9110 non-null   float64\n",
            " 20  koi_duration       9564 non-null   float64\n",
            " 21  koi_duration_err1  9110 non-null   float64\n",
            " 22  koi_duration_err2  9110 non-null   float64\n",
            " 23  koi_depth          9201 non-null   float64\n",
            " 24  koi_depth_err1     9110 non-null   float64\n",
            " 25  koi_depth_err2     9110 non-null   float64\n",
            " 26  koi_prad           9201 non-null   float64\n",
            " 27  koi_prad_err1      9201 non-null   float64\n",
            " 28  koi_prad_err2      9201 non-null   float64\n",
            " 29  koi_teq            9201 non-null   float64\n",
            " 30  koi_teq_err1       0 non-null      float64\n",
            " 31  koi_teq_err2       0 non-null      float64\n",
            " 32  koi_insol          9243 non-null   float64\n",
            " 33  koi_insol_err1     9243 non-null   float64\n",
            " 34  koi_insol_err2     9243 non-null   float64\n",
            " 35  koi_model_snr      9201 non-null   float64\n",
            " 36  koi_tce_plnt_num   9218 non-null   float64\n",
            " 37  koi_tce_delivname  9218 non-null   object \n",
            " 38  koi_steff          9201 non-null   float64\n",
            " 39  koi_steff_err1     9096 non-null   float64\n",
            " 40  koi_steff_err2     9081 non-null   float64\n",
            " 41  koi_slogg          9201 non-null   float64\n",
            " 42  koi_slogg_err1     9096 non-null   float64\n",
            " 43  koi_slogg_err2     9096 non-null   float64\n",
            " 44  koi_srad           9201 non-null   float64\n",
            " 45  koi_srad_err1      9096 non-null   float64\n",
            " 46  koi_srad_err2      9096 non-null   float64\n",
            " 47  ra                 9564 non-null   float64\n",
            " 48  dec                9564 non-null   float64\n",
            " 49  koi_kepmag         9563 non-null   float64\n",
            "dtypes: float64(39), int64(6), object(5)\n",
            "memory usage: 3.6+ MB\n"
          ]
        }
      ]
    },
    {
      "cell_type": "markdown",
      "source": [
        "# **Data Preprocessing**"
      ],
      "metadata": {
        "id": "cKPtbBJ-tMkA"
      }
    },
    {
      "cell_type": "code",
      "source": [
        "df = df.drop('kepler_name',axis=1)"
      ],
      "metadata": {
        "id": "U5hi1wsZw19x"
      },
      "execution_count": 19,
      "outputs": []
    },
    {
      "cell_type": "code",
      "execution_count": 20,
      "metadata": {
        "id": "R4ke69cJh8jW"
      },
      "outputs": [],
      "source": [
        "#encode the data\n",
        "X = df.copy()\n",
        "X = X.drop('koi_disposition', axis=1)\n",
        "y = df.koi_disposition.copy()\n",
        "y = LabelEncoder().fit_transform(y)\n"
      ]
    },
    {
      "cell_type": "markdown",
      "metadata": {
        "id": "EOTb53AsYyHQ"
      },
      "source": [
        "\n",
        "dadicated = 0\n",
        "\n",
        "comfirmed = 1\n",
        "\n",
        "false positave = 2\n"
      ]
    },
    {
      "cell_type": "code",
      "execution_count": 21,
      "metadata": {
        "id": "QXImoRvVUdak"
      },
      "outputs": [],
      "source": [
        "#splitting the data\n",
        "X_train, X_test, y_train, y_test = train_test_split(X, y, test_size=0.2, random_state=42)\n",
        "X_train, X_val, y_train, y_val = train_test_split(X_train, y_train, test_size=0.2, random_state=42)\n"
      ]
    },
    {
      "cell_type": "code",
      "execution_count": 28,
      "metadata": {
        "id": "tz9Q5wUhkJNs",
        "colab": {
          "base_uri": "https://localhost:8080/"
        },
        "outputId": "b83d3355-5376-4d84-e6b0-d3054eed2c39"
      },
      "outputs": [
        {
          "output_type": "stream",
          "name": "stderr",
          "text": [
            "/usr/local/lib/python3.10/dist-packages/sklearn/impute/_base.py:558: UserWarning: Skipping features without any observed values: ['koi_teq_err1' 'koi_teq_err2']. At least one non-missing value is needed for imputation with strategy='median'.\n",
            "  warnings.warn(\n",
            "/usr/local/lib/python3.10/dist-packages/sklearn/impute/_base.py:558: UserWarning: Skipping features without any observed values: ['koi_teq_err1' 'koi_teq_err2']. At least one non-missing value is needed for imputation with strategy='median'.\n",
            "  warnings.warn(\n",
            "/usr/local/lib/python3.10/dist-packages/sklearn/impute/_base.py:558: UserWarning: Skipping features without any observed values: ['koi_teq_err1' 'koi_teq_err2']. At least one non-missing value is needed for imputation with strategy='median'.\n",
            "  warnings.warn(\n"
          ]
        }
      ],
      "source": [
        "# Define numerical and categorical columns\n",
        "num_cols = X.select_dtypes(include='number').columns.tolist() # Select only numerical columns\n",
        "cat_cols = X.select_dtypes(exclude='number').columns.tolist() # Select only categorical columns\n",
        "\n",
        "# Define the imputer for numerical data\n",
        "num_prep = Pipeline([\n",
        "    ('imp', SimpleImputer(strategy='median')),\n",
        "    ('scaler', StandardScaler()),\n",
        "])\n",
        "\n",
        "# categorical preprocessor\n",
        "cat_prep = Pipeline([\n",
        "    ('imp', SimpleImputer(strategy='most_frequent')), # Use most_frequent for categorical\n",
        "    ('onehot', OneHotEncoder(handle_unknown='ignore')) # Add OneHotEncoder for categorical features\n",
        "])\n",
        "\n",
        "# Combine preprocessing steps\n",
        "prepper = ColumnTransformer([\n",
        "    ('numeric', num_prep, num_cols),\n",
        "    ('categorical', cat_prep, cat_cols) # Include categorical preprocessing\n",
        "], remainder='passthrough')\n",
        "\n",
        "# Apply the preprocessing pipeline to the data\n",
        "X_train_prepared = prepper.fit_transform(X_train)\n",
        "X_test_prepared = prepper.transform(X_test)\n",
        "X_val_prepared = prepper.transform(X_val)\n"
      ]
    },
    {
      "cell_type": "markdown",
      "source": [
        "# **Modeling**"
      ],
      "metadata": {
        "id": "yoh_3ks-1UFR"
      }
    },
    {
      "cell_type": "code",
      "execution_count": 35,
      "metadata": {
        "colab": {
          "base_uri": "https://localhost:8080/",
          "height": 213
        },
        "id": "SSvXAylvHOfq",
        "outputId": "69cdf08e-c5e2-4f61-958d-8971e9e3e732"
      },
      "outputs": [
        {
          "output_type": "stream",
          "name": "stdout",
          "text": [
            "[LightGBM] [Info] Auto-choosing col-wise multi-threading, the overhead of testing was 0.003834 seconds.\n",
            "You can set `force_col_wise=true` to remove the overhead.\n",
            "[LightGBM] [Info] Total Bins 9525\n",
            "[LightGBM] [Info] Number of data points in the train set: 6120, number of used features: 48\n",
            "[LightGBM] [Info] Start training from score -1.456689\n",
            "[LightGBM] [Info] Start training from score -1.417495\n",
            "[LightGBM] [Info] Start training from score -0.644980\n",
            "[LightGBM] [Warning] No further splits with positive gain, best gain: -inf\n"
          ]
        },
        {
          "output_type": "execute_result",
          "data": {
            "text/plain": [
              "LGBMClassifier(random_state=42)"
            ],
            "text/html": [
              "<style>#sk-container-id-4 {color: black;}#sk-container-id-4 pre{padding: 0;}#sk-container-id-4 div.sk-toggleable {background-color: white;}#sk-container-id-4 label.sk-toggleable__label {cursor: pointer;display: block;width: 100%;margin-bottom: 0;padding: 0.3em;box-sizing: border-box;text-align: center;}#sk-container-id-4 label.sk-toggleable__label-arrow:before {content: \"▸\";float: left;margin-right: 0.25em;color: #696969;}#sk-container-id-4 label.sk-toggleable__label-arrow:hover:before {color: black;}#sk-container-id-4 div.sk-estimator:hover label.sk-toggleable__label-arrow:before {color: black;}#sk-container-id-4 div.sk-toggleable__content {max-height: 0;max-width: 0;overflow: hidden;text-align: left;background-color: #f0f8ff;}#sk-container-id-4 div.sk-toggleable__content pre {margin: 0.2em;color: black;border-radius: 0.25em;background-color: #f0f8ff;}#sk-container-id-4 input.sk-toggleable__control:checked~div.sk-toggleable__content {max-height: 200px;max-width: 100%;overflow: auto;}#sk-container-id-4 input.sk-toggleable__control:checked~label.sk-toggleable__label-arrow:before {content: \"▾\";}#sk-container-id-4 div.sk-estimator input.sk-toggleable__control:checked~label.sk-toggleable__label {background-color: #d4ebff;}#sk-container-id-4 div.sk-label input.sk-toggleable__control:checked~label.sk-toggleable__label {background-color: #d4ebff;}#sk-container-id-4 input.sk-hidden--visually {border: 0;clip: rect(1px 1px 1px 1px);clip: rect(1px, 1px, 1px, 1px);height: 1px;margin: -1px;overflow: hidden;padding: 0;position: absolute;width: 1px;}#sk-container-id-4 div.sk-estimator {font-family: monospace;background-color: #f0f8ff;border: 1px dotted black;border-radius: 0.25em;box-sizing: border-box;margin-bottom: 0.5em;}#sk-container-id-4 div.sk-estimator:hover {background-color: #d4ebff;}#sk-container-id-4 div.sk-parallel-item::after {content: \"\";width: 100%;border-bottom: 1px solid gray;flex-grow: 1;}#sk-container-id-4 div.sk-label:hover label.sk-toggleable__label {background-color: #d4ebff;}#sk-container-id-4 div.sk-serial::before {content: \"\";position: absolute;border-left: 1px solid gray;box-sizing: border-box;top: 0;bottom: 0;left: 50%;z-index: 0;}#sk-container-id-4 div.sk-serial {display: flex;flex-direction: column;align-items: center;background-color: white;padding-right: 0.2em;padding-left: 0.2em;position: relative;}#sk-container-id-4 div.sk-item {position: relative;z-index: 1;}#sk-container-id-4 div.sk-parallel {display: flex;align-items: stretch;justify-content: center;background-color: white;position: relative;}#sk-container-id-4 div.sk-item::before, #sk-container-id-4 div.sk-parallel-item::before {content: \"\";position: absolute;border-left: 1px solid gray;box-sizing: border-box;top: 0;bottom: 0;left: 50%;z-index: -1;}#sk-container-id-4 div.sk-parallel-item {display: flex;flex-direction: column;z-index: 1;position: relative;background-color: white;}#sk-container-id-4 div.sk-parallel-item:first-child::after {align-self: flex-end;width: 50%;}#sk-container-id-4 div.sk-parallel-item:last-child::after {align-self: flex-start;width: 50%;}#sk-container-id-4 div.sk-parallel-item:only-child::after {width: 0;}#sk-container-id-4 div.sk-dashed-wrapped {border: 1px dashed gray;margin: 0 0.4em 0.5em 0.4em;box-sizing: border-box;padding-bottom: 0.4em;background-color: white;}#sk-container-id-4 div.sk-label label {font-family: monospace;font-weight: bold;display: inline-block;line-height: 1.2em;}#sk-container-id-4 div.sk-label-container {text-align: center;}#sk-container-id-4 div.sk-container {/* jupyter's `normalize.less` sets `[hidden] { display: none; }` but bootstrap.min.css set `[hidden] { display: none !important; }` so we also need the `!important` here to be able to override the default hidden behavior on the sphinx rendered scikit-learn.org. See: https://github.com/scikit-learn/scikit-learn/issues/21755 */display: inline-block !important;position: relative;}#sk-container-id-4 div.sk-text-repr-fallback {display: none;}</style><div id=\"sk-container-id-4\" class=\"sk-top-container\"><div class=\"sk-text-repr-fallback\"><pre>LGBMClassifier(random_state=42)</pre><b>In a Jupyter environment, please rerun this cell to show the HTML representation or trust the notebook. <br />On GitHub, the HTML representation is unable to render, please try loading this page with nbviewer.org.</b></div><div class=\"sk-container\" hidden><div class=\"sk-item\"><div class=\"sk-estimator sk-toggleable\"><input class=\"sk-toggleable__control sk-hidden--visually\" id=\"sk-estimator-id-4\" type=\"checkbox\" checked><label for=\"sk-estimator-id-4\" class=\"sk-toggleable__label sk-toggleable__label-arrow\">LGBMClassifier</label><div class=\"sk-toggleable__content\"><pre>LGBMClassifier(random_state=42)</pre></div></div></div></div></div>"
            ]
          },
          "metadata": {},
          "execution_count": 35
        }
      ],
      "source": [
        "model = LGBMClassifier(random_state=42)\n",
        "model.fit(X_train_prepared, y_train)"
      ]
    },
    {
      "cell_type": "code",
      "source": [
        "y_pred_val = model.predict(X_val_prepared)\n",
        "accuracy_val = accuracy_score(y_val, y_pred_val)\n",
        "print(\"Accuracy:\", accuracy_val)"
      ],
      "metadata": {
        "colab": {
          "base_uri": "https://localhost:8080/"
        },
        "id": "aILgYFBDIt2k",
        "outputId": "bc39c2aa-9146-4b24-ba85-3571ba90ec22"
      },
      "execution_count": 36,
      "outputs": [
        {
          "output_type": "stream",
          "name": "stdout",
          "text": [
            "Accuracy: 0.9261920313520575\n"
          ]
        }
      ]
    },
    {
      "cell_type": "code",
      "source": [
        "y_pred = model.predict(X_test_prepared)\n",
        "accuracy = accuracy_score(y_test ,y_pred)\n",
        "print(\"Accuracy:\", accuracy)"
      ],
      "metadata": {
        "colab": {
          "base_uri": "https://localhost:8080/"
        },
        "id": "jBA4Lc6iJESO",
        "outputId": "75963176-cf3f-42f7-c703-b82a16a5ec7d"
      },
      "execution_count": 37,
      "outputs": [
        {
          "output_type": "stream",
          "name": "stdout",
          "text": [
            "Accuracy: 0.9194981704129639\n"
          ]
        }
      ]
    },
    {
      "cell_type": "markdown",
      "source": [
        "**feature importance**"
      ],
      "metadata": {
        "id": "SvsYh1i81cH5"
      }
    },
    {
      "cell_type": "code",
      "source": [
        "# Get feature importance\n",
        "importance = model.feature_importances_\n",
        "\n",
        "# Get the feature names from the ColumnTransformer\n",
        "feature_names = prepper.get_feature_names_out()\n",
        "\n",
        "# Create a DataFrame to pair feature names with their importance scores\n",
        "feature_importance_df = pd.DataFrame({'Feature': feature_names, 'Importance': importance})\n",
        "\n",
        "# Sort the features by importance\n",
        "feature_importance_df = feature_importance_df.sort_values(by='Importance', ascending=False)\n",
        "\n",
        "# Display the feature importance\n",
        "print(feature_importance_df)"
      ],
      "metadata": {
        "colab": {
          "base_uri": "https://localhost:8080/"
        },
        "id": "we9UxQxRcfGD",
        "outputId": "15c31eb2-1bc4-45f5-b319-885af849dd8e"
      },
      "execution_count": null,
      "outputs": [
        {
          "output_type": "stream",
          "name": "stdout",
          "text": [
            "                                Feature  Importance\n",
            "0                         numeric__pca0         559\n",
            "2                         numeric__pca2         553\n",
            "3                         numeric__pca3         462\n",
            "25                       numeric__pca25         445\n",
            "17                       numeric__pca17         440\n",
            "...                                 ...         ...\n",
            "2067  categorical__kepoi_name_K02311.02           0\n",
            "2066  categorical__kepoi_name_K02311.01           0\n",
            "2065  categorical__kepoi_name_K02310.01           0\n",
            "2064  categorical__kepoi_name_K02309.01           0\n",
            "3075  categorical__kepoi_name_K03681.01           0\n",
            "\n",
            "[6151 rows x 2 columns]\n"
          ]
        }
      ]
    },
    {
      "cell_type": "markdown",
      "source": [
        "#  **Evaluation**"
      ],
      "metadata": {
        "id": "Re9EnMLa19FR"
      }
    },
    {
      "source": [
        "# Accuracy\n",
        "accuracy = accuracy_score(y_test, y_pred)\n",
        "\n",
        "# Precision\n",
        "precision = precision_score(y_test, y_pred, average='macro')\n",
        "\n",
        "# Recall\n",
        "recall = recall_score(y_test, y_pred, average='macro')\n",
        "\n",
        "# F1 Score\n",
        "f1 = f1_score(y_test, y_pred, average='macro')\n",
        "\n",
        "# Confusion Matrix\n",
        "conf_matrix = confusion_matrix(y_test, y_pred2)\n",
        "\n",
        "# Detailed classification report\n",
        "print(classification_report(y_test, y_pred2))\n",
        "\n",
        "# Print evaluation metrics\n",
        "print(f\"Accuracy: {accuracy}\")\n",
        "print(f\"Precision: {precision}\")\n",
        "print(f\"Recall: {recall}\")\n",
        "print(f\"F1 Score: {f1}\")\n",
        "#print(f\"ROC-AUC: {roc_auc}\")"
      ],
      "cell_type": "code",
      "metadata": {
        "id": "U4EWjtmYu_pG",
        "outputId": "786015d7-bab0-40a7-8267-5cf97b5ffd33",
        "colab": {
          "base_uri": "https://localhost:8080/"
        }
      },
      "execution_count": null,
      "outputs": [
        {
          "output_type": "stream",
          "name": "stdout",
          "text": [
            "              precision    recall  f1-score   support\n",
            "\n",
            "           0       0.83      0.76      0.79       451\n",
            "           1       0.77      0.82      0.79       454\n",
            "           2       0.99      1.00      0.99      1008\n",
            "\n",
            "    accuracy                           0.90      1913\n",
            "   macro avg       0.86      0.86      0.86      1913\n",
            "weighted avg       0.90      0.90      0.90      1913\n",
            "\n",
            "Accuracy: 0.8991113434396236\n",
            "Precision: 0.8620602446387112\n",
            "Recall: 0.8577593925718993\n",
            "F1 Score: 0.8591693335097332\n"
          ]
        }
      ]
    },
    {
      "cell_type": "code",
      "source": [],
      "metadata": {
        "id": "FlhPjQi5u3KK"
      },
      "execution_count": null,
      "outputs": []
    }
  ],
  "metadata": {
    "colab": {
      "provenance": [],
      "authorship_tag": "ABX9TyOac4WgbCx72PDWTlPIOP8h",
      "include_colab_link": true
    },
    "kernelspec": {
      "display_name": "Python 3",
      "name": "python3"
    },
    "language_info": {
      "name": "python"
    }
  },
  "nbformat": 4,
  "nbformat_minor": 0
}